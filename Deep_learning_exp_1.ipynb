{
  "nbformat": 4,
  "nbformat_minor": 0,
  "metadata": {
    "colab": {
      "provenance": []
    },
    "kernelspec": {
      "name": "python3",
      "display_name": "Python 3"
    },
    "language_info": {
      "name": "python"
    }
  },
  "cells": [
    {
      "cell_type": "code",
      "execution_count": null,
      "metadata": {
        "id": "NJ1-xKsk0Oph"
      },
      "outputs": [],
      "source": [
        "import torch\n",
        "import torch.nn as nn\n",
        "import torch.optim as optim\n",
        "import pandas as pd\n",
        "from sklearn.model_selection import train_test_split\n",
        "from sklearn.preprocessing import MinMaxScaler"
      ]
    },
    {
      "cell_type": "code",
      "source": [
        "dataset1 = pd.read_csv('deep.csv')\n",
        "X = dataset1[['Input']].values\n",
        "Y= dataset1[['Output']].values\n",
        "print(X)\n",
        "print(Y)\n"
      ],
      "metadata": {
        "id": "Nyw6mPLK45uw",
        "colab": {
          "base_uri": "https://localhost:8080/"
        },
        "outputId": "d41e4dba-0a02-41b2-afa0-ccdc2e423589"
      },
      "execution_count": null,
      "outputs": [
        {
          "output_type": "stream",
          "name": "stdout",
          "text": [
            "[[1]\n",
            " [2]\n",
            " [3]\n",
            " [4]\n",
            " [5]\n",
            " [6]\n",
            " [7]\n",
            " [8]\n",
            " [9]]\n",
            "[[11]\n",
            " [21]\n",
            " [31]\n",
            " [41]\n",
            " [51]\n",
            " [61]\n",
            " [71]\n",
            " [81]\n",
            " [91]]\n"
          ]
        }
      ]
    },
    {
      "cell_type": "code",
      "source": [
        "X_train, X_test, y_train, y_test = train_test_split(X, y, test_size=0.33, random_state=33)"
      ],
      "metadata": {
        "id": "1gNsiLhX6cUo"
      },
      "execution_count": null,
      "outputs": []
    },
    {
      "cell_type": "code",
      "source": [
        "scaler = MinMaxScaler()\n",
        "X_train = scaler.fit_transform(X_train)\n",
        "X_test = scaler.transform(X_test)"
      ],
      "metadata": {
        "id": "ElFrQ_9G7Cb-"
      },
      "execution_count": null,
      "outputs": []
    },
    {
      "cell_type": "code",
      "source": [
        "X_train_tensor = torch.tensor(X_train, dtype=torch.float32)\n",
        "y_train_tensor = torch.tensor(y_train, dtype=torch.float32).view(-1, 1)\n",
        "X_test_tensor = torch.tensor(X_test, dtype=torch.float32)\n",
        "y_test_tensor = torch.tensor(y_test, dtype=torch.float32).view(-1, 1)\n"
      ],
      "metadata": {
        "id": "OftyBO1J7cuJ"
      },
      "execution_count": null,
      "outputs": []
    },
    {
      "cell_type": "code",
      "source": [
        "class NeuralNet(nn.Module):\n",
        "  def __init__(self):\n",
        "        super().__init__()\n",
        "        self.fc1 = nn.Linear(1, 8)\n",
        "        self.fc2 = nn.Linear(8, 10)\n",
        "        self.fc3 = nn.Linear(10, 1)\n",
        "        self.relu = nn.ReLU()\n",
        "        self.history = {'loss': []}\n",
        "\n",
        "  def forward(self, x):\n",
        "        x = self.relu(self.fc1(x))\n",
        "        x = self.relu(self.fc2(x))\n",
        "        x = self.fc3(x)\n",
        "        return x"
      ],
      "metadata": {
        "id": "g4i27CY-7tLt"
      },
      "execution_count": null,
      "outputs": []
    },
    {
      "cell_type": "code",
      "source": [
        "lig = NeuralNet ()\n",
        "criterion = nn. MSELoss ()\n",
        "optimizer = optim.RMSprop (lig. parameters(), lr=0.001)"
      ],
      "metadata": {
        "id": "tjfTXLSm8e8S"
      },
      "execution_count": null,
      "outputs": []
    },
    {
      "cell_type": "code",
      "source": [
        "def train_model(ai_brain, X_train, y_train, criterion, optimizer, epochs=4000) :\n",
        "  for epoch in range (epochs) :\n",
        "    optimizer. zero_grad()\n",
        "    loss = criterion(ai_brain(X_train), y_train)\n",
        "    loss. backward()\n",
        "    optimizer.step()\n",
        "    lig. history['loss'] .append(loss.item())\n",
        "    if epoch % 200 == 0:\n",
        "      print(f'Epoch [{epoch}/{epochs}], Loss: {loss.item():.6f}')"
      ],
      "metadata": {
        "id": "tXXF1xq48mO1"
      },
      "execution_count": null,
      "outputs": []
    },
    {
      "cell_type": "code",
      "source": [
        "train_model(lig, X_train_tensor, y_train_tensor, criterion, optimizer)"
      ],
      "metadata": {
        "colab": {
          "base_uri": "https://localhost:8080/"
        },
        "id": "Pl4Z4t2j8tvt",
        "outputId": "c53d10fc-440b-4587-e2a0-5bd60ec48666"
      },
      "execution_count": null,
      "outputs": [
        {
          "output_type": "stream",
          "name": "stdout",
          "text": [
            "Epoch [0/4000], Loss: 2396.059082\n",
            "Epoch [200/4000], Loss: 2031.950195\n",
            "Epoch [400/4000], Loss: 1352.546509\n",
            "Epoch [600/4000], Loss: 632.045105\n",
            "Epoch [800/4000], Loss: 235.855957\n",
            "Epoch [1000/4000], Loss: 156.223816\n",
            "Epoch [1200/4000], Loss: 96.268181\n",
            "Epoch [1400/4000], Loss: 42.681782\n",
            "Epoch [1600/4000], Loss: 10.696607\n",
            "Epoch [1800/4000], Loss: 0.851416\n",
            "Epoch [2000/4000], Loss: 0.042218\n",
            "Epoch [2200/4000], Loss: 0.002613\n",
            "Epoch [2400/4000], Loss: 0.003539\n",
            "Epoch [2600/4000], Loss: 0.003659\n",
            "Epoch [2800/4000], Loss: 0.003645\n",
            "Epoch [3000/4000], Loss: 0.003635\n",
            "Epoch [3200/4000], Loss: 0.003636\n",
            "Epoch [3400/4000], Loss: 0.003627\n",
            "Epoch [3600/4000], Loss: 0.003620\n",
            "Epoch [3800/4000], Loss: 0.003618\n"
          ]
        }
      ]
    },
    {
      "cell_type": "code",
      "source": [
        "with torch.no_grad():\n",
        "    test_loss = criterion(lig(X_test_tensor), y_test_tensor)\n",
        "    print(f'Test Loss: {test_loss.item():.6f}')\n"
      ],
      "metadata": {
        "colab": {
          "base_uri": "https://localhost:8080/"
        },
        "id": "rh7GRKHa9MrM",
        "outputId": "736daa44-64cc-4b99-bcf3-2c6b53ad4e2d"
      },
      "execution_count": null,
      "outputs": [
        {
          "output_type": "stream",
          "name": "stdout",
          "text": [
            "Test Loss: 0.005839\n"
          ]
        }
      ]
    },
    {
      "cell_type": "code",
      "source": [
        "import matplotlib.pyplot as plt\n",
        "plt.plot(lig. history['loss'])\n",
        "plt.title(\"Loss curve\")\n",
        "plt.xlabel(\"Epochs\")\n",
        "plt.ylabel(\"Loss\")"
      ],
      "metadata": {
        "id": "PWGVUk9i9Wgv",
        "colab": {
          "base_uri": "https://localhost:8080/",
          "height": 489
        },
        "outputId": "6cf1437d-eb6c-44c7-98b2-d3234d0464a8"
      },
      "execution_count": null,
      "outputs": [
        {
          "output_type": "execute_result",
          "data": {
            "text/plain": [
              "Text(0, 0.5, 'Loss')"
            ]
          },
          "metadata": {},
          "execution_count": 21
        },
        {
          "output_type": "display_data",
          "data": {
            "text/plain": [
              "<Figure size 640x480 with 1 Axes>"
            ],
            "image/png": "[encoded data removed]"
          },
          "metadata": {}
        }
      ]
    },
    {
      "cell_type": "code",
      "source": [
        "X_n1_1 = torch.tensor([[50]], dtype=torch.float32)\n",
        "pred = lig(torch.tensor(scaler.transform(X_n1_1), dtype=torch.float32)).item()\n",
        "print(f'Prediction: {pred}')"
      ],
      "metadata": {
        "colab": {
          "base_uri": "https://localhost:8080/"
        },
        "id": "1wf4MToJ5Y9y",
        "outputId": "dc68c11d-0511-42e9-8b2a-066b5c106b54"
      },
      "execution_count": null,
      "outputs": [
        {
          "output_type": "stream",
          "name": "stdout",
          "text": [
            "Prediction: 499.8450622558594\n"
          ]
        }
      ]
    }
  ]
}